{
 "cells": [],
 "metadata": {
  "kernelspec": {
   "display_name": "internship-DS-DE",
   "language": "python",
   "name": "python3"
  },
  "language_info": {
   "name": "python",
   "version": "3.12.3"
  }
 },
 "nbformat": 4,
 "nbformat_minor": 5
}
